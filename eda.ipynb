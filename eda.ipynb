{
 "metadata": {
  "name": "",
  "signature": "sha256:870f792f7e8da74370674171a6ea10ea3515effbbc29986f98104e211d4ee7da"
 },
 "nbformat": 3,
 "nbformat_minor": 0,
 "worksheets": [
  {
   "cells": [
    {
     "cell_type": "code",
     "collapsed": false,
     "input": [
      "# Hourly Demand Prediction Challenge\n",
      "# \n",
      "# metadata: \n",
      "#     - JSON file consisting of login times, only\n",
      "#     - UTC timestamps from March 1 to May 1\n",
      "#     - Washington DC\n",
      "# \n",
      "# \n",
      "# "
     ],
     "language": "python",
     "metadata": {},
     "outputs": [],
     "prompt_number": 12
    },
    {
     "cell_type": "code",
     "collapsed": false,
     "input": [
      "# Load the data.\n",
      "\n",
      "import json\n",
      "\n",
      "def load_json(filename):\n",
      "    with open(filename) as infile:\n",
      "        data = json.load(infile)\n",
      "    return data\n",
      "\n",
      "# Load a list of user login times (UTC timestamp):\n",
      "logins = load_json('hourly_demand_prediction_challenge.json')"
     ],
     "language": "python",
     "metadata": {},
     "outputs": [],
     "prompt_number": 13
    },
    {
     "cell_type": "code",
     "collapsed": false,
     "input": [
      "# Bin the data to visualize hourly demand.\n",
      "\n",
      "import itertools\n",
      "import matplotlib.pyplot as plt\n",
      "import datetime\n",
      "import calendar\n",
      "import time\n",
      "\n",
      "def group(di):\n",
      "    \"\"\"\n",
      "    [doctest]\n",
      "    \"\"\"\n",
      "    return int(calendar.timegm(di.timetuple()))/binning\n",
      "\n",
      "\n",
      "def bin_utc(utc_times, fmt, binsize = 3600):\n",
      "    \"\"\"\n",
      "    [doctest]\n",
      "    \"\"\"\n",
      "\n",
      "    # convert UTC -> datetime objects:\n",
      "    dt = [datetime.datetime.strptime(t, fmt) for t in utc_times]\n",
      "\n",
      "    # bin each timestamp into the specified time windows:\n",
      "    binned_times = [[datetime.datetime(*time.gmtime(d*binsize)[:6]), len(list(g))] \\\n",
      "                    for d,g in itertools.groupby(dt, \\\n",
      "                        lambda di: int(calendar.timegm(di.timetuple()))/binsize)]\n",
      "\n",
      "    # unzip & return the two plot axes:\n",
      "    time_axis, binned_utc = zip(*binned_times)\n",
      "    return time_axis, binned_utc\n",
      "\n",
      "\n",
      "# UTC timestamp format:\n",
      "fmt = '%Y-%m-%dT%H:%M:%S+00:00'\n",
      "HOUR = 3600 # number of seconds in an hour\n",
      "DAY = HOUR*24\n",
      "\n",
      "hours, usage = bin_utc(logins, fmt, HOUR)\n",
      "\n",
      "# make the plot:\n",
      "%matplotlib inline\n",
      "plt.bar(hours[:24*7], usage[:24*7], align='center', width=float(HOUR)/float(DAY))\n",
      "plt.xticks(rotation='vertical', size='large')\n",
      "plt.title('User logins' )\n",
      "fig = plt.gcf()\n",
      "fig.set_size_inches(12,6)\n",
      "plt.show()"
     ],
     "language": "python",
     "metadata": {},
     "outputs": [
      {
       "metadata": {},
       "output_type": "display_data",
       "png": "[encoded data removed]",
       "text": [
        "<matplotlib.figure.Figure at 0x10a73f450>"
       ]
      }
     ],
     "prompt_number": 15
    },
    {
     "cell_type": "code",
     "collapsed": false,
     "input": [],
     "language": "python",
     "metadata": {},
     "outputs": [],
     "prompt_number": 14
    }
   ],
   "metadata": {}
  }
 ]
}