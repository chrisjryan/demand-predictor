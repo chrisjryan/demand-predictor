{
 "metadata": {
  "name": "",
  "signature": "sha256:c99020b0e7e05dab9bda9eb0403280f5840e62286dd2af297375cc21f54ffc96"
 },
 "nbformat": 3,
 "nbformat_minor": 0,
 "worksheets": [
  {
   "cells": [
    {
     "cell_type": "code",
     "collapsed": false,
     "input": [
      "# Hourly Demand Prediction Challenge\n",
      "# (Predict future hourly demand based on past data)\n",
      "# \n",
      "# 1) Average data based on weekday\n",
      "#        - holidays will be outliers (Easter, ...?)\n",
      "#        - discuss outliers (sports games, etc), even though uou might not account for each\n",
      "#\n",
      "#\n",
      "#\n",
      "# [cross validate]\n",
      "#\n",
      "#\n",
      "# useful functions:\n",
      "#     calendar.weekday(year, month, day)      retruns day of week [0-6]\n",
      "#     datetime.datetime.now()                 now, date + time\n",
      "#     datetime.datetime.now().time()          now, only time\n",
      "#     time.gmtime()                           convert time since epoch -> UTC\n",
      "#     time.localime()                         convert time since epoch -> local time\n",
      "#     time.timegm()                           convert UTC -> time since epoch\n",
      "#     time.strftime(format[, t])              convert a formatted string toe a \n",
      "\n",
      "# TASKS:\n",
      "#     GET a prediction, given a time\n",
      "#     PUT more another time stamp (or a number of timestamps?)\n",
      "#     GET timestamps form MIN to MAX (maybe?)\n",
      "    \n",
      "\n",
      "# A list of datetime obects that specify atypical days (holidays, etc) that \n",
      "# should not be averaged into normal weekdays for demand prediction.\n",
      "# (to be updated manually):\n",
      "special_dates = []\n",
      "\n",
      "\n",
      "\n",
      "import datetime\n",
      "\n",
      "# def predict_demand(time = datetime.datetime.)\n",
      "\n",
      "import dataprep\n",
      "\n",
      "\n",
      "# def average_hours():\n",
      "\n",
      "\n",
      "if __name__ == '__main__':\n",
      "\n",
      "    # load the JSON file (throw sensible error if it doesn't exist):\n",
      "    hours, usage = dataprep.prepare(\"hourly_demand_prediction_challenge.json\")\n",
      "\n",
      "    \n",
      "    # perform the hourly grouping (share this method in a neat way with the eda.ipynb file)\n",
      "    \n",
      "    \n",
      "\n"
     ],
     "language": "python",
     "metadata": {},
     "outputs": [],
     "prompt_number": 8
    },
    {
     "cell_type": "code",
     "collapsed": false,
     "input": [],
     "language": "python",
     "metadata": {},
     "outputs": [],
     "prompt_number": 8
    }
   ],
   "metadata": {}
  }
 ]
}